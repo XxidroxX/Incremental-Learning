{
  "nbformat": 4,
  "nbformat_minor": 0,
  "metadata": {
    "colab": {
      "name": "main.ipynb",
      "provenance": []
    },
    "kernelspec": {
      "name": "python3",
      "display_name": "Python 3"
    },
    "accelerator": "GPU"
  },
  "cells": [
    {
      "cell_type": "code",
      "metadata": {
        "id": "NaRmYDKiRieM",
        "colab_type": "code",
        "colab": {}
      },
      "source": [
        "from iCarl import iCarl\n",
        "\n",
        "\"\"\"\n",
        "(the first option is the default)\n",
        "loss combinations = [\"iCaRL\", \"KLDiv, KLDiv\", \"KLDiv, BCEWL\", \"MSE, MSE\", \"MSE, BCEWL\", \"CE, BCEWL\", \"MSE, MSE\", \"CE_W, BCEWL\"]\n",
        "(I used always learning rate = 0.1, except for MSE/MSE, MSE/BCEWL where I used 2)\n",
        "clf  combinations = [\"NCM\", \"MLP\", \"SVN\", \"KNN\", \"KNN+NCA\"]\n",
        "\n",
        "If you want to run Finetuning:  as classifier write \"Finetuning\", exemplar: false\n",
        "If you want to run LwF.MC: as 'classifier' choose 'FC', exemplar: False\n",
        "\"\"\"\n",
        "params = {\n",
        "    'n_classes'  : 10, \n",
        "    'memory'     : 2000,      \n",
        "    'classifier' : \"FC\",         \n",
        "    'loss'       : \"iCaRL\", \n",
        "    'task_size'  : 10,           \n",
        "    'K'          : 7,            # for knn\n",
        "    'C'          : 1,            # for svm\n",
        "    'neurons'    : 256,          # for mlp\n",
        "    'nca_dim'    : 64,           # dimensions for NCA\n",
        "    'examplar'   : False,         # Do i want to use the exemplars?\n",
        "    'random_exemplar' : False,   # random exemplars?\n",
        "    'resnet_with_norm' : False \n",
        "}\n",
        "icarl = iCarl(**params)\n",
        "for i in range(10):\n",
        "  icarl.beforeTrain()\n",
        "  icarl.train()\n",
        "  icarl.afterTrain()"
      ],
      "execution_count": null,
      "outputs": []
    }
  ]
}