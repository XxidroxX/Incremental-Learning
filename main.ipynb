{
  "nbformat": 4,
  "nbformat_minor": 0,
  "metadata": {
    "colab": {
      "name": "main.ipynb",
      "provenance": []
    },
    "kernelspec": {
      "name": "python3",
      "display_name": "Python 3"
    },
    "accelerator": "GPU"
  },
  "cells": [
    {
      "cell_type": "code",
      "metadata": {
        "id": "NaRmYDKiRieM",
        "colab_type": "code",
        "colab": {}
      },
      "source": [
        "from iCarl import iCarl\n",
        "\n",
        "\"\"\"\n",
        "(the first option is the default)\n",
        "loss combinations = [\"iCaRL\", \"KLDiv, KLDiv\", \"KLDiv, BCEWL\", \"MSE, MSE\", \"MSE, BCEWL\", \"CE, BCEWL\", \"MSE, MSE\", \"CE_W, BCEWL\"]\n",
        "clf  combinations = [\"NCM\", \"MLP\", \"SVN\", \"KNN\", \"KNN+NCA\"]\n",
        "\"\"\"\n",
        "params = {\n",
        "    'n_classes'  : 10, \n",
        "    'memory'     : 2000, \n",
        "    'classifier' : \"NCM\", \n",
        "    'loss'       : \"iCaRL\", \n",
        "    'task_size'  : 10, \n",
        "    'K'          : 7,\n",
        "    'C'          : 1,\n",
        "    'neurons'    : 256, \n",
        "    'nca_dim'    : 64,\n",
        "    'examplar'   : True, \n",
        "    'random_exemplar' : False, \n",
        "    'resnet_with_norm' : False\n",
        "}\n",
        "icarl = iCarl(**params)\n",
        "for i in range(10):\n",
        "  icarl.beforeTrain()\n",
        "  icarl.train()\n",
        "  icarl.afterTrain()"
      ],
      "execution_count": null,
      "outputs": []
    }
  ]
}